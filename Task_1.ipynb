{
  "nbformat": 4,
  "nbformat_minor": 0,
  "metadata": {
    "colab": {
      "provenance": [],
      "authorship_tag": "ABX9TyNHbLL+aTxK/Td0zTS70AWJ",
      "include_colab_link": true
    },
    "kernelspec": {
      "name": "python3",
      "display_name": "Python 3"
    },
    "language_info": {
      "name": "python"
    }
  },
  "cells": [
    {
      "cell_type": "markdown",
      "metadata": {
        "id": "view-in-github",
        "colab_type": "text"
      },
      "source": [
        "<a href=\"https://colab.research.google.com/gist/Belivins/16a59f1a8e54a98cfe265492de703427/ex-3.ipynb\" target=\"_parent\"><img src=\"https://colab.research.google.com/assets/colab-badge.svg\" alt=\"Open In Colab\"/></a>"
      ]
    },
    {
      "cell_type": "markdown",
      "source": [
        "# 1"
      ],
      "metadata": {
        "id": "Aeuk68DsTlFG"
      }
    },
    {
      "cell_type": "code",
      "execution_count": 4,
      "metadata": {
        "colab": {
          "base_uri": "https://localhost:8080/"
        },
        "id": "KE1egkgzRfkw",
        "outputId": "6e76b82f-041b-42e1-f10e-779503a1ce19"
      },
      "outputs": [
        {
          "output_type": "stream",
          "name": "stdout",
          "text": [
            "Сегодня 20.4. На улице -12.8 градусов.\n",
            "Холодно, лучше остаться дома\n"
          ]
        }
      ],
      "source": [
        "day = int(20)\n",
        "month = int(4)\n",
        "temperature = float(-12.8)\n",
        "print(\"Сегодня {}.{}. На улице {} градусов.\".format(day, month, temperature))\n",
        "if temperature < 0:\n",
        "  print('Холодно, лучше остаться дома')"
      ]
    },
    {
      "cell_type": "markdown",
      "source": [
        "# 2\n"
      ],
      "metadata": {
        "id": "ohcc8vBwTpGl"
      }
    },
    {
      "cell_type": "code",
      "source": [
        "speed_kmh = 1079252848.8\n",
        "speed_kms = int(speed_kmh / 3600)\n",
        "print(\"Скорость света равна {} км/с\".format(speed_kms))"
      ],
      "metadata": {
        "colab": {
          "base_uri": "https://localhost:8080/"
        },
        "id": "Ip3PsrKcTNRE",
        "outputId": "71e6f718-a68d-4ce9-97f7-5054c9840ff1"
      },
      "execution_count": 13,
      "outputs": [
        {
          "output_type": "stream",
          "name": "stdout",
          "text": [
            "Скорость света равна 299792 км/с\n"
          ]
        }
      ]
    },
    {
      "cell_type": "markdown",
      "source": [
        "# 3"
      ],
      "metadata": {
        "id": "mEn7vCgpUsaM"
      }
    },
    {
      "cell_type": "code",
      "source": [
        "product_list = [\"Картофель\", \"Морковь\", \"Лук\", \"Чеснок\", \"Петрушка\", \"Укроп\", \"Яблоки\", \"Бананы\", \"Лимон\"]\n",
        "count = len(product_list)\n",
        "print(\"У тебя {} продуктов.\".format(count))"
      ],
      "metadata": {
        "colab": {
          "base_uri": "https://localhost:8080/"
        },
        "id": "B-69p3XqUtdJ",
        "outputId": "ee20d0b0-6d31-47eb-d563-3481642584aa"
      },
      "execution_count": 14,
      "outputs": [
        {
          "output_type": "stream",
          "name": "stdout",
          "text": [
            "У тебя 9 продуктов.\n"
          ]
        }
      ]
    },
    {
      "cell_type": "markdown",
      "source": [
        "# 4"
      ],
      "metadata": {
        "id": "HvJIJoymVwL9"
      }
    },
    {
      "cell_type": "code",
      "source": [
        "for product in product_list:\n",
        "  print(product)"
      ],
      "metadata": {
        "colab": {
          "base_uri": "https://localhost:8080/"
        },
        "id": "h6KePalaVykq",
        "outputId": "afae95da-389d-4562-98b2-df93fca01b47"
      },
      "execution_count": 15,
      "outputs": [
        {
          "output_type": "stream",
          "name": "stdout",
          "text": [
            "Картофель\n",
            "Морковь\n",
            "Лук\n",
            "Чеснок\n",
            "Петрушка\n",
            "Укроп\n",
            "Яблоки\n",
            "Бананы\n",
            "Лимон\n"
          ]
        }
      ]
    },
    {
      "cell_type": "markdown",
      "source": [
        "# 5"
      ],
      "metadata": {
        "id": "Xu-QH_b4WAb-"
      }
    },
    {
      "cell_type": "code",
      "source": [
        "for product_name in product_list:\n",
        "  if(len(product_name) % 2 == 0):\n",
        "    print(product_name)"
      ],
      "metadata": {
        "colab": {
          "base_uri": "https://localhost:8080/"
        },
        "id": "ztYS3BDOWBYd",
        "outputId": "b40b446b-2e88-4ec4-e7ca-b1de07cc52db"
      },
      "execution_count": 16,
      "outputs": [
        {
          "output_type": "stream",
          "name": "stdout",
          "text": [
            "Чеснок\n",
            "Петрушка\n",
            "Яблоки\n",
            "Бананы\n"
          ]
        }
      ]
    },
    {
      "cell_type": "markdown",
      "source": [
        "# 6 Простое ли число?"
      ],
      "metadata": {
        "id": "crRY_6VGWQiF"
      }
    },
    {
      "cell_type": "code",
      "source": [
        "number = int(input())\n",
        "dividers = [ i for i in range(1, int(number/2 + 1)) if number % i == 0]\n",
        "dividers.append(number)\n",
        "if(len(dividers) > 2):\n",
        "  print(\"Составное\")\n",
        "  print(dividers) # Все делители числа\n",
        "else:\n",
        "  print(\"Простое\")"
      ],
      "metadata": {
        "colab": {
          "base_uri": "https://localhost:8080/"
        },
        "id": "WwFPSQTJYjuh",
        "outputId": "8fa83c6f-5b62-4204-fa89-d0b693565447"
      },
      "execution_count": 47,
      "outputs": [
        {
          "output_type": "stream",
          "name": "stdout",
          "text": [
            "4626342\n",
            "Составное\n",
            "[1, 2, 3, 6, 7, 9, 14, 18, 21, 27, 42, 54, 63, 126, 189, 378, 12239, 24478, 36717, 73434, 85673, 110151, 171346, 220302, 257019, 330453, 514038, 660906, 771057, 1542114, 2313171, 4626342]\n"
          ]
        }
      ]
    },
    {
      "cell_type": "markdown",
      "source": [
        "# 7 Числа Фибоначчи"
      ],
      "metadata": {
        "id": "xb1iX9GWb5hT"
      }
    },
    {
      "cell_type": "markdown",
      "source": [
        "![image.png](data:image/png;base64,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)"
      ],
      "metadata": {
        "id": "Ed5u_72BefLS"
      }
    },
    {
      "cell_type": "code",
      "source": [
        "import math"
      ],
      "metadata": {
        "id": "tAupGQ3hdbv5"
      },
      "execution_count": 48,
      "outputs": []
    },
    {
      "cell_type": "code",
      "source": [
        "def fibonacci(num): # принимает на вход n номер в ряду, а отдает его значение\n",
        "  phi = (1 + math.sqrt(5)) / 2\n",
        "  teta = (1 - math.sqrt(5)) / 2\n",
        "  return round(( (phi**n) - (teta**n) ) / (math.sqrt(5)))\n",
        "  # return round((1/math.sqrt(5)) * ( (phi**n) - math.cos(math.pi * n) / (phi**n) ))"
      ],
      "metadata": {
        "id": "XJgdkhFjgq6d"
      },
      "execution_count": 99,
      "outputs": []
    },
    {
      "cell_type": "code",
      "source": [
        "for n in range(-10, 11, 1):\n",
        "  print(n, fibonacci(n))"
      ],
      "metadata": {
        "colab": {
          "base_uri": "https://localhost:8080/"
        },
        "id": "8RUIOkt3g_lw",
        "outputId": "1d9b4b8d-1bd6-4950-8a69-0c86064ee9c6"
      },
      "execution_count": 100,
      "outputs": [
        {
          "output_type": "stream",
          "name": "stdout",
          "text": [
            "-10 -55\n",
            "-9 34\n",
            "-8 -21\n",
            "-7 13\n",
            "-6 -8\n",
            "-5 5\n",
            "-4 -3\n",
            "-3 2\n",
            "-2 -1\n",
            "-1 1\n",
            "0 0\n",
            "1 1\n",
            "2 1\n",
            "3 2\n",
            "4 3\n",
            "5 5\n",
            "6 8\n",
            "7 13\n",
            "8 21\n",
            "9 34\n",
            "10 55\n"
          ]
        }
      ]
    }
  ]
}
